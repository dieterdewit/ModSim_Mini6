{
 "cells": [
  {
   "cell_type": "markdown",
   "metadata": {},
   "source": [
    "Universidad del Valle de Guatemala <br/>\n",
    "Modelacion y Simulacion <br/>\n",
    "Docente: Samuel Chavez <br/>\n",
    "Semestre 2, 2020 <br/>\n",
    "\n",
    "Dieter Esteban de Wit Torres 15146 <br/>\n",
    "&nbsp;\n",
    "&nbsp;\n",
    "\n",
    "# Mini\tproyecto 6\n",
    "&nbsp;"
   ]
  },
  {
   "cell_type": "code",
   "execution_count": 1,
   "metadata": {},
   "outputs": [],
   "source": [
    "# --- Import required libraries ---\n",
    "import numpy as np\n",
    "from itertools import combinations"
   ]
  },
  {
   "cell_type": "markdown",
   "metadata": {},
   "source": [
    "## Task 1: "
   ]
  },
  {
   "cell_type": "code",
   "execution_count": 3,
   "metadata": {},
   "outputs": [],
   "source": [
    "def function1(x1, x2):\n",
    "    return 15*x1 + 30*x2 + 4*x1*x2 - 2*x1**2 - 4*x2**2"
   ]
  },
  {
   "cell_type": "code",
   "execution_count": 4,
   "metadata": {},
   "outputs": [],
   "source": [
    "def condition1(x1, x2):\n",
    "    if x1 + 2*x2 <= 30:\n",
    "        return True\n",
    "    else:\n",
    "        return False"
   ]
  },
  {
   "cell_type": "code",
   "execution_count": 22,
   "metadata": {},
   "outputs": [
    {
     "name": "stdout",
     "output_type": "stream",
     "text": [
      "Valores de x1, x2 que maximizan la funcion: [12  9]\n",
      "Fit: 270\n"
     ]
    }
   ],
   "source": [
    "population = []\n",
    "cont = 0 \n",
    "\n",
    "for x in range(10000):\n",
    "    num1 = np.random.randint(1, 30)\n",
    "    num2 = np.random.randint(1, 30)\n",
    "    if condition1(num1, num2) == True:\n",
    "        a = np.array([num1,num2])\n",
    "        population.append(a)\n",
    "\n",
    "end_criteria = []\n",
    "\n",
    "for y in population:\n",
    "    fit1 = function1(y[0],y[1])\n",
    "    end_criteria.append(fit1)\n",
    "\n",
    "end_criteria.sort(reverse=True)\n",
    "max_fit = end_criteria[0]\n",
    "\n",
    "while(True):\n",
    "    if cont == 1000:\n",
    "        print(\"Valores de x1, x2 que maximizan la funcion:\", population[0])\n",
    "        print('Fit:', max_fit)\n",
    "        break\n",
    "\n",
    "    fitness_score = []\n",
    "\n",
    "    for y in population:\n",
    "        fit = function1(y[0],y[1])\n",
    "        fitness_score.append(fit)\n",
    "\n",
    "\n",
    "    fitness = list.copy(fitness_score)\n",
    "    fitness_score.sort(reverse=True)\n",
    "\n",
    "    if fitness_score[0] > max_fit:\n",
    "        max_fit = fitness_score[0]\n",
    "    elif fitness_score[0] == max_fit:\n",
    "        cont += 1\n",
    "\n",
    "    indx1 = fitness.index(fitness_score[0])\n",
    "    indx2 = fitness.index(fitness_score[1])\n",
    "\n",
    "    parent1 = population[indx1]\n",
    "    parent2 = population[indx2]\n",
    "\n",
    "    parents = np.concatenate((parent1, parent2))\n",
    "\n",
    "    children = combinations(parents, 2)\n",
    "\n",
    "    population = []\n",
    "\n",
    "    population.append(parent1)\n",
    "    population.append(parent2)\n",
    "\n",
    "    for i in list(children):\n",
    "        arr = np.array(i)\n",
    "        rand_pos = np.random.randint(0, 2)\n",
    "        rand_prob = np.random.uniform()\n",
    "\n",
    "        if rand_prob > 0.80:\n",
    "            arr[rand_pos] += 1\n",
    "\n",
    "        if condition1(arr[0], arr[1]) == True:\n",
    "            population.append(arr)"
   ]
  },
  {
   "cell_type": "markdown",
   "metadata": {},
   "source": [
    "## Task 2: "
   ]
  },
  {
   "cell_type": "code",
   "execution_count": 14,
   "metadata": {},
   "outputs": [],
   "source": [
    "def function2(x1, x2):\n",
    "    return 3*x1 + 5*x2"
   ]
  },
  {
   "cell_type": "code",
   "execution_count": 15,
   "metadata": {},
   "outputs": [],
   "source": [
    "def condition2(x1, x2):\n",
    "    if 3*x1 + 2*x2 <= 18:\n",
    "        return True\n",
    "    else:\n",
    "        return False"
   ]
  },
  {
   "cell_type": "code",
   "execution_count": 21,
   "metadata": {},
   "outputs": [
    {
     "name": "stdout",
     "output_type": "stream",
     "text": [
      "Valores de x1, x2 que maximizan la funcion: [2 6]\n",
      "Fit: 36\n"
     ]
    }
   ],
   "source": [
    "population = []\n",
    "cont = 0 \n",
    "\n",
    "for x in range(10000):\n",
    "    num1 = np.random.randint(1, 5)\n",
    "    num2 = np.random.randint(1, 6)\n",
    "    if condition2(num1, num2) == True:\n",
    "        a = np.array([num1,num2])\n",
    "        population.append(a)\n",
    "\n",
    "end_criteria = []\n",
    "\n",
    "for y in population:\n",
    "    fit1 = function2(y[0],y[1])\n",
    "    end_criteria.append(fit1)\n",
    "\n",
    "end_criteria.sort(reverse=True)\n",
    "max_fit = end_criteria[0]\n",
    "\n",
    "while(True):\n",
    "    if cont == 1000:\n",
    "        print(\"Valores de x1, x2 que maximizan la funcion:\", population[0])\n",
    "        print('Fit:', max_fit)\n",
    "        break\n",
    "\n",
    "    fitness_score = []\n",
    "\n",
    "    for y in population:\n",
    "        fit = function2(y[0],y[1])\n",
    "        fitness_score.append(fit)\n",
    "\n",
    "\n",
    "    fitness = list.copy(fitness_score)\n",
    "    fitness_score.sort(reverse=True)\n",
    "\n",
    "    if fitness_score[0] > max_fit:\n",
    "        max_fit = fitness_score[0]\n",
    "    elif fitness_score[0] == max_fit:\n",
    "        cont += 1\n",
    "\n",
    "    indx1 = fitness.index(fitness_score[0])\n",
    "    indx2 = fitness.index(fitness_score[1])\n",
    "\n",
    "    parent1 = population[indx1]\n",
    "    parent2 = population[indx2]\n",
    "\n",
    "    parents = np.concatenate((parent1, parent2))\n",
    "\n",
    "    children = combinations(parents, 2)\n",
    "\n",
    "    population = []\n",
    "\n",
    "    population.append(parent1)\n",
    "    population.append(parent2)\n",
    "\n",
    "    for i in list(children):\n",
    "        arr = np.array(i)\n",
    "        rand_pos = np.random.randint(0, 2)\n",
    "        rand_prob = np.random.uniform()\n",
    "\n",
    "        if rand_prob > 0.80:\n",
    "            arr[rand_pos] += 1\n",
    "\n",
    "        if condition2(arr[0], arr[1]) == True:\n",
    "            population.append(arr)"
   ]
  },
  {
   "cell_type": "markdown",
   "metadata": {},
   "source": [
    "## Task 3: "
   ]
  },
  {
   "cell_type": "code",
   "execution_count": 18,
   "metadata": {},
   "outputs": [],
   "source": [
    "def function3(x1, x2):\n",
    "    return 5*x1 - x1**2 + 8*x2 - 2*x2**2"
   ]
  },
  {
   "cell_type": "code",
   "execution_count": 19,
   "metadata": {},
   "outputs": [],
   "source": [
    "def condition3(x1, x2):\n",
    "    if 3*x1 + 2*x2 <= 6:\n",
    "        return True\n",
    "    else:\n",
    "        return False"
   ]
  },
  {
   "cell_type": "code",
   "execution_count": 20,
   "metadata": {},
   "outputs": [
    {
     "name": "stdout",
     "output_type": "stream",
     "text": [
      "Valores de x1, x2 que maximizan la funcion: [1 1]\n",
      "Fit: 10\n"
     ]
    }
   ],
   "source": [
    "population = []\n",
    "cont = 0 \n",
    "\n",
    "for x in range(10000):\n",
    "    num1 = np.random.randint(1, 6)\n",
    "    num2 = np.random.randint(1, 6)\n",
    "    if condition3(num1, num2) == True:\n",
    "        a = np.array([num1,num2])\n",
    "        population.append(a)\n",
    "\n",
    "end_criteria = []\n",
    "\n",
    "for y in population:\n",
    "    fit1 = function3(y[0],y[1])\n",
    "    end_criteria.append(fit1)\n",
    "\n",
    "end_criteria.sort(reverse=True)\n",
    "max_fit = end_criteria[0]\n",
    "\n",
    "while(True):\n",
    "    if cont == 1000:\n",
    "        print(\"Valores de x1, x2 que maximizan la funcion:\", population[0])\n",
    "        print('Fit:', max_fit)\n",
    "        break\n",
    "\n",
    "    fitness_score = []\n",
    "\n",
    "    for y in population:\n",
    "        fit = function3(y[0],y[1])\n",
    "        fitness_score.append(fit)\n",
    "\n",
    "\n",
    "    fitness = list.copy(fitness_score)\n",
    "    fitness_score.sort(reverse=True)\n",
    "\n",
    "    if fitness_score[0] > max_fit:\n",
    "        max_fit = fitness_score[0]\n",
    "    elif fitness_score[0] == max_fit:\n",
    "        cont += 1\n",
    "\n",
    "    indx1 = fitness.index(fitness_score[0])\n",
    "    indx2 = fitness.index(fitness_score[1])\n",
    "\n",
    "    parent1 = population[indx1]\n",
    "    parent2 = population[indx2]\n",
    "\n",
    "    parents = np.concatenate((parent1, parent2))\n",
    "\n",
    "    children = combinations(parents, 2)\n",
    "\n",
    "    population = []\n",
    "\n",
    "    population.append(parent1)\n",
    "    population.append(parent2)\n",
    "\n",
    "    for i in list(children):\n",
    "        arr = np.array(i)\n",
    "        rand_pos = np.random.randint(0, 2)\n",
    "        rand_prob = np.random.uniform()\n",
    "\n",
    "        if rand_prob > 0.80:\n",
    "            arr[rand_pos] += 1\n",
    "\n",
    "        if condition3(arr[0], arr[1]) == True:\n",
    "            population.append(arr)"
   ]
  },
  {
   "cell_type": "code",
   "execution_count": null,
   "metadata": {},
   "outputs": [],
   "source": []
  }
 ],
 "metadata": {
  "kernelspec": {
   "display_name": "Python 3",
   "language": "python",
   "name": "python3"
  },
  "language_info": {
   "codemirror_mode": {
    "name": "ipython",
    "version": 3
   },
   "file_extension": ".py",
   "mimetype": "text/x-python",
   "name": "python",
   "nbconvert_exporter": "python",
   "pygments_lexer": "ipython3",
   "version": "3.8.6"
  }
 },
 "nbformat": 4,
 "nbformat_minor": 4
}
